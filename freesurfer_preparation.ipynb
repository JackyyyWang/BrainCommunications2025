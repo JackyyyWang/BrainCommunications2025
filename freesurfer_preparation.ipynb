{
 "cells": [
  {
   "cell_type": "code",
   "execution_count": 5,
   "id": "54d87af9-8518-48f2-8b86-2388490166fa",
   "metadata": {
    "tags": []
   },
   "outputs": [],
   "source": [
    "import os\n",
    "import numpy as np\n",
    "import nibabel as nib\n",
    "from nipype.interfaces.ants import N4BiasFieldCorrection\n",
    "import os\n",
    "\n",
    "# Define the directory path and new prefix\n",
    "\n",
    "a = nib.load('343941_mp2rage.nii')\n",
    "a_d = a.get_fdata()\n",
    "a_d = a_d * 10000\n",
    "a_d_i = nib.Nifti1Image(a_d, a.affine, a.header)\n",
    "nib.save(a_d_i, '343941_rescale.nii')\n",
    "                 \n"
   ]
  },
  {
   "cell_type": "code",
   "execution_count": 3,
   "id": "e2991044-4431-423e-9254-7b44857eada6",
   "metadata": {},
   "outputs": [
    {
     "ename": "OSError",
     "evalue": "No command \"N4BiasFieldCorrection\" found on host jackys-MacBook-Air.local. Please check that the corresponding package is installed.",
     "output_type": "error",
     "traceback": [
      "\u001b[0;31m---------------------------------------------------------------------------\u001b[0m",
      "\u001b[0;31mOSError\u001b[0m                                   Traceback (most recent call last)",
      "Input \u001b[0;32mIn [3]\u001b[0m, in \u001b[0;36m<cell line: 14>\u001b[0;34m()\u001b[0m\n\u001b[1;32m     12\u001b[0m n4\u001b[38;5;241m.\u001b[39minputs\u001b[38;5;241m.\u001b[39mn_iterations \u001b[38;5;241m=\u001b[39m [\u001b[38;5;241m50\u001b[39m, \u001b[38;5;241m50\u001b[39m, \u001b[38;5;241m30\u001b[39m, \u001b[38;5;241m20\u001b[39m]\n\u001b[1;32m     13\u001b[0m n4\u001b[38;5;241m.\u001b[39minputs\u001b[38;5;241m.\u001b[39mconvergence_threshold \u001b[38;5;241m=\u001b[39m \u001b[38;5;241m1e-6\u001b[39m\n\u001b[0;32m---> 14\u001b[0m \u001b[43mn4\u001b[49m\u001b[38;5;241;43m.\u001b[39;49m\u001b[43mrun\u001b[49m\u001b[43m(\u001b[49m\u001b[43m)\u001b[49m\n",
      "File \u001b[0;32m~/opt/anaconda3/lib/python3.9/site-packages/nipype/interfaces/base/core.py:397\u001b[0m, in \u001b[0;36mBaseInterface.run\u001b[0;34m(self, cwd, ignore_exception, **inputs)\u001b[0m\n\u001b[1;32m    395\u001b[0m \u001b[38;5;66;03m# Run interface\u001b[39;00m\n\u001b[1;32m    396\u001b[0m runtime \u001b[38;5;241m=\u001b[39m \u001b[38;5;28mself\u001b[39m\u001b[38;5;241m.\u001b[39m_pre_run_hook(runtime)\n\u001b[0;32m--> 397\u001b[0m runtime \u001b[38;5;241m=\u001b[39m \u001b[38;5;28;43mself\u001b[39;49m\u001b[38;5;241;43m.\u001b[39;49m\u001b[43m_run_interface\u001b[49m\u001b[43m(\u001b[49m\u001b[43mruntime\u001b[49m\u001b[43m)\u001b[49m\n\u001b[1;32m    398\u001b[0m runtime \u001b[38;5;241m=\u001b[39m \u001b[38;5;28mself\u001b[39m\u001b[38;5;241m.\u001b[39m_post_run_hook(runtime)\n\u001b[1;32m    399\u001b[0m \u001b[38;5;66;03m# Collect outputs\u001b[39;00m\n",
      "File \u001b[0;32m~/opt/anaconda3/lib/python3.9/site-packages/nipype/interfaces/base/core.py:752\u001b[0m, in \u001b[0;36mCommandLine._run_interface\u001b[0;34m(self, runtime, correct_return_codes)\u001b[0m\n\u001b[1;32m    749\u001b[0m cmd_path \u001b[38;5;241m=\u001b[39m which(executable_name, env\u001b[38;5;241m=\u001b[39mruntime\u001b[38;5;241m.\u001b[39menviron)\n\u001b[1;32m    751\u001b[0m \u001b[38;5;28;01mif\u001b[39;00m cmd_path \u001b[38;5;129;01mis\u001b[39;00m \u001b[38;5;28;01mNone\u001b[39;00m:\n\u001b[0;32m--> 752\u001b[0m     \u001b[38;5;28;01mraise\u001b[39;00m \u001b[38;5;167;01mIOError\u001b[39;00m(\n\u001b[1;32m    753\u001b[0m         \u001b[38;5;124m'\u001b[39m\u001b[38;5;124mNo command \u001b[39m\u001b[38;5;124m\"\u001b[39m\u001b[38;5;132;01m%s\u001b[39;00m\u001b[38;5;124m\"\u001b[39m\u001b[38;5;124m found on host \u001b[39m\u001b[38;5;132;01m%s\u001b[39;00m\u001b[38;5;124m. Please check that the \u001b[39m\u001b[38;5;124m'\u001b[39m\n\u001b[1;32m    754\u001b[0m         \u001b[38;5;124m\"\u001b[39m\u001b[38;5;124mcorresponding package is installed.\u001b[39m\u001b[38;5;124m\"\u001b[39m\n\u001b[1;32m    755\u001b[0m         \u001b[38;5;241m%\u001b[39m (executable_name, runtime\u001b[38;5;241m.\u001b[39mhostname)\n\u001b[1;32m    756\u001b[0m     )\n\u001b[1;32m    758\u001b[0m runtime\u001b[38;5;241m.\u001b[39mcommand_path \u001b[38;5;241m=\u001b[39m cmd_path\n\u001b[1;32m    759\u001b[0m runtime\u001b[38;5;241m.\u001b[39mdependencies \u001b[38;5;241m=\u001b[39m (\n\u001b[1;32m    760\u001b[0m     get_dependencies(executable_name, runtime\u001b[38;5;241m.\u001b[39menviron)\n\u001b[1;32m    761\u001b[0m     \u001b[38;5;28;01mif\u001b[39;00m \u001b[38;5;28mself\u001b[39m\u001b[38;5;241m.\u001b[39m_ldd\n\u001b[1;32m    762\u001b[0m     \u001b[38;5;28;01melse\u001b[39;00m \u001b[38;5;124m\"\u001b[39m\u001b[38;5;124m<skipped>\u001b[39m\u001b[38;5;124m\"\u001b[39m\n\u001b[1;32m    763\u001b[0m )\n",
      "\u001b[0;31mOSError\u001b[0m: No command \"N4BiasFieldCorrection\" found on host jackys-MacBook-Air.local. Please check that the corresponding package is installed."
     ]
    }
   ],
   "source": [
    "# Define the input and output file paths\n",
    "mp2rage_file = '343941_rescale.nii'\n",
    "output_file = '343941_n4_mp2rage.nii'\n",
    "\n",
    "# Run the N4 bias field correction using the N4BiasFieldCorrection interface\n",
    "n4 = N4BiasFieldCorrection()\n",
    "n4.inputs.dimension = 3\n",
    "n4.inputs.input_image = mp2rage_file\n",
    "n4.inputs.output_image = output_file\n",
    "n4.inputs.bspline_fitting_distance = 200\n",
    "n4.inputs.shrink_factor = 4\n",
    "n4.inputs.n_iterations = [50, 50, 30, 20]\n",
    "n4.inputs.convergence_threshold = 1e-6\n",
    "n4.run()\n"
   ]
  },
  {
   "cell_type": "code",
   "execution_count": null,
   "id": "81b4a37a-e8f5-4231-a839-a764ef301506",
   "metadata": {},
   "outputs": [],
   "source": [
    "# Define the input and output file paths\n",
    "flair_file = 'FLAIR.nii'\n",
    "output_file = '343941_n4_flair.nii'\n",
    "\n",
    "# Run the N4 bias field correction using the N4BiasFieldCorrection interface\n",
    "n4 = N4BiasFieldCorrection()\n",
    "n4.inputs.dimension = 3\n",
    "n4.inputs.input_image = flair_file\n",
    "n4.inputs.output_image = output_file\n",
    "n4.inputs.bspline_fitting_distance = 200\n",
    "n4.inputs.shrink_factor = 4\n",
    "n4.inputs.n_iterations = [50, 50, 30, 20]\n",
    "n4.inputs.convergence_threshold = 1e-6\n",
    "n4.run()\n"
   ]
  }
 ],
 "metadata": {
  "kernelspec": {
   "display_name": "Python 3 (ipykernel)",
   "language": "python",
   "name": "python3"
  },
  "language_info": {
   "codemirror_mode": {
    "name": "ipython",
    "version": 3
   },
   "file_extension": ".py",
   "mimetype": "text/x-python",
   "name": "python",
   "nbconvert_exporter": "python",
   "pygments_lexer": "ipython3",
   "version": "3.9.12"
  }
 },
 "nbformat": 4,
 "nbformat_minor": 5
}
